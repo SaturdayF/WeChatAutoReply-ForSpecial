{
 "cells": [
  {
   "cell_type": "code",
   "id": "initial_id",
   "metadata": {
    "collapsed": true,
    "ExecuteTime": {
     "end_time": "2025-03-02T15:32:14.474653Z",
     "start_time": "2025-03-02T15:31:59.038987Z"
    }
   },
   "source": [
    "import time\n",
    "import pygame\n",
    "\n",
    "pygame.mixer.init()\n",
    "# 加载音乐文件\n",
    "pygame.mixer.music.load('music.mp3')\n",
    "# 播放音乐\n",
    "pygame.mixer.music.play()\n",
    "# 等待播放完成（避免程序提前退出）\n",
    "while pygame.mixer.music.get_busy():\n",
    "    time.sleep(0.1)"
   ],
   "outputs": [
    {
     "ename": "KeyboardInterrupt",
     "evalue": "",
     "output_type": "error",
     "traceback": [
      "\u001B[1;31m---------------------------------------------------------------------------\u001B[0m",
      "\u001B[1;31mKeyboardInterrupt\u001B[0m                         Traceback (most recent call last)",
      "Cell \u001B[1;32mIn[6], line 11\u001B[0m\n\u001B[0;32m      9\u001B[0m \u001B[38;5;66;03m# 等待播放完成（避免程序提前退出）\u001B[39;00m\n\u001B[0;32m     10\u001B[0m \u001B[38;5;28;01mwhile\u001B[39;00m pygame\u001B[38;5;241m.\u001B[39mmixer\u001B[38;5;241m.\u001B[39mmusic\u001B[38;5;241m.\u001B[39mget_busy():\n\u001B[1;32m---> 11\u001B[0m     \u001B[43mtime\u001B[49m\u001B[38;5;241;43m.\u001B[39;49m\u001B[43msleep\u001B[49m\u001B[43m(\u001B[49m\u001B[38;5;241;43m0.1\u001B[39;49m\u001B[43m)\u001B[49m\n",
      "\u001B[1;31mKeyboardInterrupt\u001B[0m: "
     ]
    }
   ],
   "execution_count": 6
  },
  {
   "metadata": {},
   "cell_type": "code",
   "outputs": [],
   "execution_count": null,
   "source": "\n",
   "id": "3addd131f261142b"
  }
 ],
 "metadata": {
  "kernelspec": {
   "display_name": "Python 3",
   "language": "python",
   "name": "python3"
  },
  "language_info": {
   "codemirror_mode": {
    "name": "ipython",
    "version": 2
   },
   "file_extension": ".py",
   "mimetype": "text/x-python",
   "name": "python",
   "nbconvert_exporter": "python",
   "pygments_lexer": "ipython2",
   "version": "2.7.6"
  }
 },
 "nbformat": 4,
 "nbformat_minor": 5
}
